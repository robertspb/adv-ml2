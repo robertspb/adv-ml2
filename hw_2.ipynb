{
  "nbformat": 4,
  "nbformat_minor": 0,
  "metadata": {
    "colab": {
      "name": "hw-2",
      "provenance": [],
      "collapsed_sections": [],
      "toc_visible": true
    },
    "kernelspec": {
      "name": "python3",
      "display_name": "Python 3"
    },
    "language_info": {
      "name": "python"
    }
  },
  "cells": [
    {
      "cell_type": "markdown",
      "metadata": {
        "id": "qnZPe0f6m_9u"
      },
      "source": [
        "# Что, где, когда?"
      ]
    },
    {
      "cell_type": "code",
      "metadata": {
        "id": "c5V_KsrOWOop"
      },
      "source": [
        "import numpy as np\n",
        "import pandas as pd\n",
        "from sklearn.linear_model import LogisticRegression\n",
        "from matplotlib import pyplot as plt"
      ],
      "execution_count": 2,
      "outputs": []
    },
    {
      "cell_type": "markdown",
      "metadata": {
        "id": "IXbcQgSkm88P"
      },
      "source": [
        "## 1. Обработка данных"
      ]
    },
    {
      "cell_type": "code",
      "metadata": {
        "id": "fq6--DM9nQbZ"
      },
      "source": [
        "players = pd.read_pickle('/content/drive/MyDrive/adv-ml/players.pkl')\n",
        "tournaments = pd.read_pickle('/content/drive/MyDrive/adv-ml/tournaments.pkl')\n",
        "results = pd.read_pickle('/content/drive/MyDrive/adv-ml/results.pkl')"
      ],
      "execution_count": 3,
      "outputs": []
    },
    {
      "cell_type": "code",
      "metadata": {
        "colab": {
          "base_uri": "https://localhost:8080/"
        },
        "id": "l0khrk4SoNFK",
        "outputId": "27a9bfd2-41ad-4b48-a95d-5e436cdc495a"
      },
      "source": [
        "# Превью загруженных данных\n",
        "print('Игроки')\n",
        "print(players[1], players[22799])\n",
        "print('Турниры')\n",
        "print(tournaments[1], tournaments[2])\n",
        "print('Результаты')\n",
        "print(results[1], results[2])"
      ],
      "execution_count": 4,
      "outputs": [
        {
          "output_type": "stream",
          "text": [
            "Игроки\n",
            "{'id': 1, 'name': 'Алексей', 'patronymic': None, 'surname': 'Абабилов'} {'id': 22799, 'name': 'Сергей', 'patronymic': 'Игоревич', 'surname': 'Николенко'}\n",
            "Турниры\n",
            "{'id': 1, 'name': 'Чемпионат Южного Кавказа', 'dateStart': '2003-07-25T00:00:00+04:00', 'dateEnd': '2003-07-27T00:00:00+04:00', 'type': {'id': 2, 'name': 'Обычный'}, 'season': '/seasons/1', 'orgcommittee': [], 'synchData': None, 'questionQty': None} {'id': 2, 'name': 'Летние зори', 'dateStart': '2003-08-09T00:00:00+04:00', 'dateEnd': '2003-08-09T00:00:00+04:00', 'type': {'id': 2, 'name': 'Обычный'}, 'season': '/seasons/1', 'orgcommittee': [], 'synchData': None, 'questionQty': None}\n",
            "Результаты\n",
            "[{'team': {'id': 242, 'name': 'Команда Азимова', 'town': {'id': 21, 'name': 'Баку'}}, 'mask': None, 'current': {'name': 'Команда Азимова', 'town': {'id': 21, 'name': 'Баку'}}, 'questionsTotal': 0, 'synchRequest': None, 'position': 1, 'controversials': [], 'flags': [], 'teamMembers': [{'flag': None, 'usedRating': 0, 'rating': 0, 'player': {'id': 476, 'name': 'Анар', 'patronymic': 'Беюкага оглы', 'surname': 'Азимов'}}, {'flag': None, 'usedRating': 0, 'rating': 0, 'player': {'id': 878, 'name': 'Фариз', 'patronymic': 'Наим оглы', 'surname': 'Аликишибеков'}}, {'flag': None, 'usedRating': 0, 'rating': 0, 'player': {'id': 1872, 'name': 'Аднан', 'patronymic': 'Фариз оглы', 'surname': 'Ахундов'}}, {'flag': None, 'usedRating': 0, 'rating': 0, 'player': {'id': 13721, 'name': 'Балаш', 'patronymic': 'Алекпер оглы', 'surname': 'Касумов'}}, {'flag': None, 'usedRating': 0, 'rating': 0, 'player': {'id': 22132, 'name': 'Анар', 'patronymic': 'Джафар оглы', 'surname': 'Наджафли'}}, {'flag': None, 'usedRating': 0, 'rating': 0, 'player': {'id': 22133, 'name': 'Рауф', 'patronymic': 'Джафар оглы', 'surname': 'Наджафли'}}]}, {'team': {'id': 640, 'name': 'Перезагрузка', 'town': {'id': 100, 'name': 'Ереван'}}, 'mask': None, 'current': {'name': 'Перезагрузка', 'town': {'id': 100, 'name': 'Ереван'}}, 'questionsTotal': 0, 'synchRequest': None, 'position': 2, 'controversials': [], 'flags': [], 'teamMembers': []}, {'team': {'id': 245, 'name': 'Айастан', 'town': {'id': 100, 'name': 'Ереван'}}, 'mask': None, 'current': {'name': 'Айастан', 'town': {'id': 100, 'name': 'Ереван'}}, 'questionsTotal': 0, 'synchRequest': None, 'position': 3.5, 'controversials': [], 'flags': [], 'teamMembers': []}, {'team': {'id': 299, 'name': 'Команда Гусейнова', 'town': {'id': 21, 'name': 'Баку'}}, 'mask': None, 'current': {'name': 'Команда Гусейнова', 'town': {'id': 21, 'name': 'Баку'}}, 'questionsTotal': 0, 'synchRequest': None, 'position': 3.5, 'controversials': [], 'flags': [], 'teamMembers': []}, {'team': {'id': 1189, 'name': 'Грааль', 'town': {'id': 369, 'name': 'Цхалтубо'}}, 'mask': None, 'current': {'name': 'Грааль', 'town': {'id': 369, 'name': 'Цхалтубо'}}, 'questionsTotal': 0, 'synchRequest': None, 'position': 5, 'controversials': [], 'flags': [], 'teamMembers': []}, {'team': {'id': 251, 'name': 'Пентиум', 'town': {'id': 312, 'name': 'Сухуми'}}, 'mask': None, 'current': {'name': 'Пентиум', 'town': {'id': 312, 'name': 'Сухуми'}}, 'questionsTotal': 0, 'synchRequest': None, 'position': 6.5, 'controversials': [], 'flags': [], 'teamMembers': []}, {'team': {'id': 268, 'name': 'Команда Алиева', 'town': {'id': 21, 'name': 'Баку'}}, 'mask': None, 'current': {'name': 'Команда Алиева', 'town': {'id': 21, 'name': 'Баку'}}, 'questionsTotal': 0, 'synchRequest': None, 'position': 6.5, 'controversials': [], 'flags': [], 'teamMembers': []}, {'team': {'id': 307, 'name': 'Третий путь', 'town': {'id': 323, 'name': 'Тбилиси'}}, 'mask': None, 'current': {'name': 'Третий путь', 'town': {'id': 323, 'name': 'Тбилиси'}}, 'questionsTotal': 0, 'synchRequest': None, 'position': 8, 'controversials': [], 'flags': [], 'teamMembers': []}, {'team': {'id': 543, 'name': 'Команда Мусаева', 'town': {'id': 21, 'name': 'Баку'}}, 'mask': None, 'current': {'name': 'Команда Мусаева', 'town': {'id': 21, 'name': 'Баку'}}, 'questionsTotal': 0, 'synchRequest': None, 'position': 9, 'controversials': [], 'flags': [], 'teamMembers': []}, {'team': {'id': 41, 'name': 'Фантазия', 'town': {'id': 323, 'name': 'Тбилиси'}}, 'mask': None, 'current': {'name': 'Фантазия', 'town': {'id': 323, 'name': 'Тбилиси'}}, 'questionsTotal': 0, 'synchRequest': None, 'position': 10, 'controversials': [], 'flags': [], 'teamMembers': []}, {'team': {'id': 347, 'name': 'Инкогнито', 'town': {'id': 323, 'name': 'Тбилиси'}}, 'mask': None, 'current': {'name': 'Инкогнито', 'town': {'id': 323, 'name': 'Тбилиси'}}, 'questionsTotal': 0, 'synchRequest': None, 'position': 11, 'controversials': [], 'flags': [], 'teamMembers': []}, {'team': {'id': 1614, 'name': 'Рисорджименто', 'town': {'id': 323, 'name': 'Тбилиси'}}, 'mask': None, 'current': {'name': 'Рисорджименто', 'town': {'id': 323, 'name': 'Тбилиси'}}, 'questionsTotal': 0, 'synchRequest': None, 'position': 12, 'controversials': [], 'flags': [], 'teamMembers': []}, {'team': {'id': 2271, 'name': 'LL', 'town': {'id': 21, 'name': 'Баку'}}, 'mask': None, 'current': {'name': 'LL', 'town': {'id': 21, 'name': 'Баку'}}, 'questionsTotal': 0, 'synchRequest': None, 'position': 13, 'controversials': [], 'flags': [], 'teamMembers': []}, {'team': {'id': 1449, 'name': 'Бока Хуниорс', 'town': {'id': 113, 'name': 'Зугдиди'}}, 'mask': None, 'current': {'name': 'Бока Хуниорс', 'town': {'id': 113, 'name': 'Зугдиди'}}, 'questionsTotal': 0, 'synchRequest': None, 'position': 14, 'controversials': [], 'flags': [], 'teamMembers': []}, {'team': {'id': 1453, 'name': 'Батуми', 'town': {'id': 23, 'name': 'Батуми'}}, 'mask': None, 'current': {'name': 'Батуми', 'town': {'id': 23, 'name': 'Батуми'}}, 'questionsTotal': 0, 'synchRequest': None, 'position': 15, 'controversials': [], 'flags': [], 'teamMembers': []}, {'team': {'id': 1451, 'name': 'Диа', 'town': {'id': 171, 'name': 'Кутаиси'}}, 'mask': None, 'current': {'name': 'Диа', 'town': {'id': 171, 'name': 'Кутаиси'}}, 'questionsTotal': 0, 'synchRequest': None, 'position': 16, 'controversials': [], 'flags': [], 'teamMembers': []}, {'team': {'id': 389, 'name': 'Каравелла', 'town': {'id': 323, 'name': 'Тбилиси'}}, 'mask': None, 'current': {'name': 'Каравелла', 'town': {'id': 323, 'name': 'Тбилиси'}}, 'questionsTotal': 0, 'synchRequest': None, 'position': 17.5, 'controversials': [], 'flags': [], 'teamMembers': []}, {'team': {'id': 487, 'name': 'Огуз', 'town': {'id': 21, 'name': 'Баку'}}, 'mask': None, 'current': {'name': 'Огуз', 'town': {'id': 21, 'name': 'Баку'}}, 'questionsTotal': 0, 'synchRequest': None, 'position': 17.5, 'controversials': [], 'flags': [], 'teamMembers': []}, {'team': {'id': 384, 'name': 'Мительшпиль', 'town': {'id': 323, 'name': 'Тбилиси'}}, 'mask': None, 'current': {'name': 'Мительшпиль', 'town': {'id': 323, 'name': 'Тбилиси'}}, 'questionsTotal': 0, 'synchRequest': None, 'position': 19.5, 'controversials': [], 'flags': [], 'teamMembers': []}, {'team': {'id': 456, 'name': 'Бобби', 'town': {'id': 323, 'name': 'Тбилиси'}}, 'mask': None, 'current': {'name': 'Бобби', 'town': {'id': 323, 'name': 'Тбилиси'}}, 'questionsTotal': 0, 'synchRequest': None, 'position': 19.5, 'controversials': [], 'flags': [], 'teamMembers': []}, {'team': {'id': 458, 'name': 'Рамэ', 'town': {'id': 323, 'name': 'Тбилиси'}}, 'mask': None, 'current': {'name': 'Рамэ', 'town': {'id': 323, 'name': 'Тбилиси'}}, 'questionsTotal': 0, 'synchRequest': None, 'position': 21.5, 'controversials': [], 'flags': [], 'teamMembers': []}, {'team': {'id': 682, 'name': 'Команда Рза-заде', 'town': {'id': 21, 'name': 'Баку'}}, 'mask': None, 'current': {'name': 'Команда Рза-заде', 'town': {'id': 21, 'name': 'Баку'}}, 'questionsTotal': 0, 'synchRequest': None, 'position': 21.5, 'controversials': [], 'flags': [], 'teamMembers': []}, {'team': {'id': 684, 'name': 'Мановар', 'town': {'id': 323, 'name': 'Тбилиси'}}, 'mask': None, 'current': {'name': 'Мановар', 'town': {'id': 323, 'name': 'Тбилиси'}}, 'questionsTotal': 0, 'synchRequest': None, 'position': 23, 'controversials': [], 'flags': [], 'teamMembers': []}, {'team': {'id': 453, 'name': 'Ар вици', 'town': {'id': 23, 'name': 'Батуми'}}, 'mask': None, 'current': {'name': 'Ар вици', 'town': {'id': 23, 'name': 'Батуми'}}, 'questionsTotal': 0, 'synchRequest': None, 'position': 24, 'controversials': [], 'flags': [], 'teamMembers': []}, {'team': {'id': 305, 'name': 'Файл', 'town': {'id': 279, 'name': 'Рустави'}}, 'mask': None, 'current': {'name': 'Файл', 'town': {'id': 279, 'name': 'Рустави'}}, 'questionsTotal': 0, 'synchRequest': None, 'position': 25, 'controversials': [], 'flags': [], 'teamMembers': []}, {'team': {'id': 457, 'name': 'Тквлипшани', 'town': {'id': 323, 'name': 'Тбилиси'}}, 'mask': None, 'current': {'name': 'Тквлипшани', 'town': {'id': 323, 'name': 'Тбилиси'}}, 'questionsTotal': 0, 'synchRequest': None, 'position': 27, 'controversials': [], 'flags': [], 'teamMembers': []}, {'team': {'id': 685, 'name': 'Neo', 'town': {'id': 323, 'name': 'Тбилиси'}}, 'mask': None, 'current': {'name': 'Neo', 'town': {'id': 323, 'name': 'Тбилиси'}}, 'questionsTotal': 0, 'synchRequest': None, 'position': 27, 'controversials': [], 'flags': [], 'teamMembers': []}, {'team': {'id': 687, 'name': 'Радикал', 'town': {'id': 323, 'name': 'Тбилиси'}}, 'mask': None, 'current': {'name': 'Радикал', 'town': {'id': 323, 'name': 'Тбилиси'}}, 'questionsTotal': 0, 'synchRequest': None, 'position': 27, 'controversials': [], 'flags': [], 'teamMembers': []}, {'team': {'id': 688, 'name': 'Грейсп', 'town': {'id': 21, 'name': 'Баку'}}, 'mask': None, 'current': {'name': 'Грейсп', 'town': {'id': 21, 'name': 'Баку'}}, 'questionsTotal': 0, 'synchRequest': None, 'position': 29, 'controversials': [], 'flags': [], 'teamMembers': []}, {'team': {'id': 29022, 'name': 'Бездельники', 'town': {'id': 113, 'name': 'Зугдиди'}}, 'mask': None, 'current': {'name': 'Бездельники', 'town': {'id': 113, 'name': 'Зугдиди'}}, 'questionsTotal': 0, 'synchRequest': None, 'position': 30, 'controversials': [], 'flags': [], 'teamMembers': []}] [{'team': {'id': 312, 'name': 'Социал-демократы', 'town': {'id': 201, 'name': 'Москва'}}, 'mask': None, 'current': {'name': 'Социал-демократы', 'town': {'id': 201, 'name': 'Москва'}}, 'questionsTotal': 0, 'synchRequest': None, 'position': 1, 'controversials': [], 'flags': [], 'teamMembers': []}, {'team': {'id': 510, 'name': 'Импульс', 'town': {'id': 286, 'name': 'Саранск'}}, 'mask': None, 'current': {'name': 'Импульс', 'town': {'id': 286, 'name': 'Саранск'}}, 'questionsTotal': 0, 'synchRequest': None, 'position': 2, 'controversials': [], 'flags': [], 'teamMembers': [{'flag': None, 'usedRating': 0, 'rating': 0, 'player': {'id': 33199, 'name': 'Михаил', 'patronymic': 'Николаевич', 'surname': 'Филаткин'}}, {'flag': None, 'usedRating': 0, 'rating': 0, 'player': {'id': 29333, 'name': 'Михаил', 'patronymic': 'Игоревич', 'surname': 'Скипский'}}, {'flag': None, 'usedRating': 0, 'rating': 0, 'player': {'id': 21265, 'name': 'Анастасия', 'patronymic': 'Владимировна', 'surname': 'Мишкина'}}, {'flag': None, 'usedRating': 0, 'rating': 0, 'player': {'id': 17969, 'name': 'Денис', 'patronymic': 'Владимирович', 'surname': 'Лашин'}}, {'flag': None, 'usedRating': 0, 'rating': 0, 'player': {'id': 14736, 'name': 'Евгений', 'patronymic': 'Владимирович', 'surname': 'Коваль'}}, {'flag': None, 'usedRating': 0, 'rating': 0, 'player': {'id': 3298, 'name': 'Надежда', 'patronymic': 'Владимировна', 'surname': 'Беспалова'}}]}, {'team': {'id': 195, 'name': 'Реал-Мордовия', 'town': {'id': 286, 'name': 'Саранск'}}, 'mask': None, 'current': {'name': 'Реал-Мордовия', 'town': {'id': 286, 'name': 'Саранск'}}, 'questionsTotal': 0, 'synchRequest': None, 'position': 3.5, 'controversials': [], 'flags': [], 'teamMembers': []}, {'team': {'id': 264, 'name': 'Джокер', 'town': {'id': 287, 'name': 'Саратов'}}, 'mask': None, 'current': {'name': 'Джокер', 'town': {'id': 287, 'name': 'Саратов'}}, 'questionsTotal': 0, 'synchRequest': None, 'position': 3.5, 'controversials': [], 'flags': [], 'teamMembers': [{'flag': None, 'usedRating': 0, 'rating': 0, 'player': {'id': 29800, 'name': 'Антон', 'patronymic': 'Михайлович', 'surname': 'Снятковский'}}, {'flag': None, 'usedRating': 0, 'rating': 0, 'player': {'id': 20691, 'name': 'Станислав', 'patronymic': 'Григорьевич', 'surname': 'Мереминский'}}, {'flag': None, 'usedRating': 0, 'rating': 0, 'player': {'id': 17751, 'name': 'Мария', 'patronymic': 'Сергеевна', 'surname': 'Лазарева'}}, {'flag': None, 'usedRating': 0, 'rating': 0, 'player': {'id': 17746, 'name': 'Михаил', 'patronymic': 'Сергеевич', 'surname': 'Лазарев'}}, {'flag': None, 'usedRating': 0, 'rating': 0, 'player': {'id': 12160, 'name': 'Михаил', 'patronymic': 'Андреевич', 'surname': 'Иванов'}}, {'flag': None, 'usedRating': 0, 'rating': 0, 'player': {'id': 4762, 'name': 'Евгений', 'patronymic': 'Игоревич', 'surname': 'Быстров'}}, {'flag': None, 'usedRating': 0, 'rating': 0, 'player': {'id': 4121, 'name': 'Антон', 'patronymic': 'Алексеевич', 'surname': 'Бочкарёв'}}]}, {'team': {'id': 240, 'name': 'Бегемот', 'town': {'id': 282, 'name': 'Самара'}}, 'mask': None, 'current': {'name': 'Бегемот', 'town': {'id': 282, 'name': 'Самара'}}, 'questionsTotal': 0, 'synchRequest': None, 'position': 5, 'controversials': [], 'flags': [], 'teamMembers': []}, {'team': {'id': 689, 'name': 'Б-52', 'town': {'id': 282, 'name': 'Самара'}}, 'mask': None, 'current': {'name': 'Б-52', 'town': {'id': 282, 'name': 'Самара'}}, 'questionsTotal': 0, 'synchRequest': None, 'position': 6, 'controversials': [], 'flags': [], 'teamMembers': [{'flag': None, 'usedRating': 0, 'rating': 0, 'player': {'id': 18396, 'name': 'Марина', 'patronymic': 'Геннадьевна', 'surname': 'Панькова'}}, {'flag': None, 'usedRating': 0, 'rating': 0, 'player': {'id': 51313, 'name': 'Рамиль', 'patronymic': '', 'surname': 'Санатуллов'}}, {'flag': None, 'usedRating': 0, 'rating': 0, 'player': {'id': 23401, 'name': 'Виталий', 'patronymic': 'Викторович', 'surname': 'Олемской'}}, {'flag': None, 'usedRating': 0, 'rating': 0, 'player': {'id': 19902, 'name': 'Алексей', 'patronymic': 'Алексеевич', 'surname': 'Маркин'}}, {'flag': None, 'usedRating': 0, 'rating': 0, 'player': {'id': 18529, 'name': 'Владислав', 'patronymic': 'Владимирович', 'surname': 'Лихачёв'}}, {'flag': None, 'usedRating': 0, 'rating': 0, 'player': {'id': 1129, 'name': 'Никита', 'patronymic': '', 'surname': 'Андронов'}}]}, {'team': {'id': 258, 'name': 'МордоBOYS', 'town': {'id': 286, 'name': 'Саранск'}}, 'mask': None, 'current': {'name': 'МордоBOYS', 'town': {'id': 286, 'name': 'Саранск'}}, 'questionsTotal': 0, 'synchRequest': None, 'position': 7, 'controversials': [], 'flags': [], 'teamMembers': []}, {'team': {'id': 558, 'name': 'НТР', 'town': {'id': 286, 'name': 'Саранск'}}, 'mask': None, 'current': {'name': 'НТР', 'town': {'id': 286, 'name': 'Саранск'}}, 'questionsTotal': 0, 'synchRequest': None, 'position': 8, 'controversials': [], 'flags': [], 'teamMembers': []}, {'team': {'id': 285, 'name': 'Лис', 'town': {'id': 346, 'name': 'Ульяновск'}}, 'mask': None, 'current': {'name': 'Лис', 'town': {'id': 346, 'name': 'Ульяновск'}}, 'questionsTotal': 0, 'synchRequest': None, 'position': 9.5, 'controversials': [], 'flags': [], 'teamMembers': []}, {'team': {'id': 361, 'name': '1Ф', 'town': {'id': 354, 'name': 'Уфа'}}, 'mask': None, 'current': {'name': '1Ф', 'town': {'id': 354, 'name': 'Уфа'}}, 'questionsTotal': 0, 'synchRequest': None, 'position': 9.5, 'controversials': [], 'flags': [], 'teamMembers': []}, {'team': {'id': 53, 'name': 'Анталлактика', 'town': {'id': 282, 'name': 'Самара'}}, 'mask': None, 'current': {'name': 'Анталлактика', 'town': {'id': 282, 'name': 'Самара'}}, 'questionsTotal': 0, 'synchRequest': None, 'position': 11, 'controversials': [], 'flags': [], 'teamMembers': []}, {'team': {'id': 691, 'name': 'ЖЖ', 'town': {'id': 285, 'name': 'Санкт-Петербург'}}, 'mask': None, 'current': {'name': 'ЖЖ', 'town': {'id': 285, 'name': 'Санкт-Петербург'}}, 'questionsTotal': 0, 'synchRequest': None, 'position': 12, 'controversials': [], 'flags': [], 'teamMembers': []}, {'team': {'id': 67, 'name': 'Тыкводронты', 'town': {'id': 127, 'name': 'Казань'}}, 'mask': None, 'current': {'name': 'Тыкводронты', 'town': {'id': 127, 'name': 'Казань'}}, 'questionsTotal': 0, 'synchRequest': None, 'position': 14, 'controversials': [], 'flags': [], 'teamMembers': []}, {'team': {'id': 74, 'name': 'Прощание Люцифера', 'town': {'id': 282, 'name': 'Самара'}}, 'mask': None, 'current': {'name': 'Прощание Люцифера', 'town': {'id': 282, 'name': 'Самара'}}, 'questionsTotal': 0, 'synchRequest': None, 'position': 14, 'controversials': [], 'flags': [], 'teamMembers': []}, {'team': {'id': 520, 'name': 'Имени ЕК', 'town': {'id': 286, 'name': 'Саранск'}}, 'mask': None, 'current': {'name': 'Имени ЕК', 'town': {'id': 286, 'name': 'Саранск'}}, 'questionsTotal': 0, 'synchRequest': None, 'position': 14, 'controversials': [], 'flags': [], 'teamMembers': []}, {'team': {'id': 586, 'name': 'Крыша', 'town': {'id': 98, 'name': 'Екатеринбург'}}, 'mask': None, 'current': {'name': 'Крыша', 'town': {'id': 98, 'name': 'Екатеринбург'}}, 'questionsTotal': 0, 'synchRequest': None, 'position': 16, 'controversials': [], 'flags': [], 'teamMembers': []}, {'team': {'id': 246, 'name': 'Эконом Нонстоп', 'town': {'id': 287, 'name': 'Саратов'}}, 'mask': None, 'current': {'name': 'Эконом Нонстоп', 'town': {'id': 287, 'name': 'Саратов'}}, 'questionsTotal': 0, 'synchRequest': None, 'position': 18.5, 'controversials': [], 'flags': [], 'teamMembers': [{'flag': None, 'usedRating': 0, 'rating': 0, 'player': {'id': 27028, 'name': 'Ирина', 'patronymic': 'Сергеевна', 'surname': 'Рожнёва'}}, {'flag': None, 'usedRating': 0, 'rating': 0, 'player': {'id': 26990, 'name': 'Илья', 'patronymic': 'Вячеславович', 'surname': 'Родионов'}}, {'flag': None, 'usedRating': 0, 'rating': 0, 'player': {'id': 15778, 'name': 'Алексей', 'patronymic': 'Владимирович', 'surname': 'Королёв'}}, {'flag': None, 'usedRating': 0, 'rating': 0, 'player': {'id': 9582, 'name': 'Олег', 'patronymic': 'Леонидович', 'surname': 'Долотов'}}, {'flag': None, 'usedRating': 0, 'rating': 0, 'player': {'id': 3651, 'name': 'Алексей', 'patronymic': 'Сергеевич', 'surname': 'Богомолов'}}]}, {'team': {'id': 421, 'name': 'Blackx', 'town': {'id': 287, 'name': 'Саратов'}}, 'mask': None, 'current': {'name': 'Blackx', 'town': {'id': 287, 'name': 'Саратов'}}, 'questionsTotal': 0, 'synchRequest': None, 'position': 18.5, 'controversials': [], 'flags': [], 'teamMembers': []}, {'team': {'id': 1030, 'name': 'Сборная Бутана', 'town': {'id': 346, 'name': 'Ульяновск'}}, 'mask': None, 'current': {'name': 'Сборная Бутана', 'town': {'id': 346, 'name': 'Ульяновск'}}, 'questionsTotal': 0, 'synchRequest': None, 'position': 18.5, 'controversials': [], 'flags': [], 'teamMembers': []}, {'team': {'id': 5096, 'name': 'МГТУ - It bit', 'town': {'id': 201, 'name': 'Москва'}}, 'mask': None, 'current': {'name': 'МГТУ - It bit', 'town': {'id': 201, 'name': 'Москва'}}, 'questionsTotal': 0, 'synchRequest': None, 'position': 18.5, 'controversials': [], 'flags': [], 'teamMembers': []}, {'team': {'id': 750, 'name': 'Исида', 'town': {'id': 286, 'name': 'Саранск'}}, 'mask': None, 'current': {'name': 'Исида', 'town': {'id': 286, 'name': 'Саранск'}}, 'questionsTotal': 0, 'synchRequest': None, 'position': 21, 'controversials': [], 'flags': [], 'teamMembers': []}, {'team': {'id': 302, 'name': 'Фосса', 'town': {'id': 98, 'name': 'Екатеринбург'}}, 'mask': None, 'current': {'name': 'Фосса', 'town': {'id': 98, 'name': 'Екатеринбург'}}, 'questionsTotal': 0, 'synchRequest': None, 'position': 22.5, 'controversials': [], 'flags': [], 'teamMembers': []}, {'team': {'id': 704, 'name': 'Корсары', 'town': {'id': 286, 'name': 'Саранск'}}, 'mask': None, 'current': {'name': 'Корсары', 'town': {'id': 286, 'name': 'Саранск'}}, 'questionsTotal': 0, 'synchRequest': None, 'position': 22.5, 'controversials': [], 'flags': [], 'teamMembers': []}, {'team': {'id': 504, 'name': 'Совка', 'town': {'id': 63, 'name': 'Волгоград'}}, 'mask': None, 'current': {'name': 'Совка', 'town': {'id': 63, 'name': 'Волгоград'}}, 'questionsTotal': 0, 'synchRequest': None, 'position': 24.5, 'controversials': [], 'flags': [], 'teamMembers': []}, {'team': {'id': 693, 'name': 'Слеза комсомолки', 'town': {'id': 252, 'name': 'Пермь'}}, 'mask': None, 'current': {'name': 'Слеза комсомолки', 'town': {'id': 252, 'name': 'Пермь'}}, 'questionsTotal': 0, 'synchRequest': None, 'position': 24.5, 'controversials': [], 'flags': [], 'teamMembers': []}, {'team': {'id': 517, 'name': 'Форвард', 'town': {'id': 286, 'name': 'Саранск'}}, 'mask': None, 'current': {'name': 'Форвард', 'town': {'id': 286, 'name': 'Саранск'}}, 'questionsTotal': 0, 'synchRequest': None, 'position': 26, 'controversials': [], 'flags': [], 'teamMembers': []}, {'team': {'id': 89, 'name': 'Статус', 'town': {'id': 286, 'name': 'Саранск'}}, 'mask': None, 'current': {'name': 'Статус', 'town': {'id': 286, 'name': 'Саранск'}}, 'questionsTotal': 0, 'synchRequest': None, 'position': 27.5, 'controversials': [], 'flags': [], 'teamMembers': []}, {'team': {'id': 924, 'name': 'Смирновская', 'town': {'id': 282, 'name': 'Самара'}}, 'mask': None, 'current': {'name': 'Смирновская', 'town': {'id': 282, 'name': 'Самара'}}, 'questionsTotal': 0, 'synchRequest': None, 'position': 27.5, 'controversials': [], 'flags': [], 'teamMembers': []}, {'team': {'id': 4126, 'name': 'Сириус', 'town': {'id': 282, 'name': 'Самара'}}, 'mask': None, 'current': {'name': 'Сириус', 'town': {'id': 282, 'name': 'Самара'}}, 'questionsTotal': 0, 'synchRequest': None, 'position': 29, 'controversials': [], 'flags': [], 'teamMembers': []}, {'team': {'id': 696, 'name': 'Энигма', 'town': {'id': 286, 'name': 'Саранск'}}, 'mask': None, 'current': {'name': 'Энигма', 'town': {'id': 286, 'name': 'Саранск'}}, 'questionsTotal': 0, 'synchRequest': None, 'position': 30, 'controversials': [], 'flags': [], 'teamMembers': []}, {'team': {'id': 325, 'name': 'Экспресс', 'town': {'id': 127, 'name': 'Казань'}}, 'mask': None, 'current': {'name': 'Экспресс', 'town': {'id': 127, 'name': 'Казань'}}, 'questionsTotal': 0, 'synchRequest': None, 'position': 31, 'controversials': [], 'flags': [], 'teamMembers': []}, {'team': {'id': 522, 'name': 'Минус один', 'town': {'id': 152, 'name': 'Ковылкино'}}, 'mask': None, 'current': {'name': 'Минус один', 'town': {'id': 152, 'name': 'Ковылкино'}}, 'questionsTotal': 0, 'synchRequest': None, 'position': 32.5, 'controversials': [], 'flags': [], 'teamMembers': []}, {'team': {'id': 694, 'name': 'Yes', 'town': {'id': 286, 'name': 'Саранск'}}, 'mask': None, 'current': {'name': 'Yes', 'town': {'id': 286, 'name': 'Саранск'}}, 'questionsTotal': 0, 'synchRequest': None, 'position': 32.5, 'controversials': [], 'flags': [], 'teamMembers': []}, {'team': {'id': 57, 'name': 'Меридиан', 'town': {'id': 286, 'name': 'Саранск'}}, 'mask': None, 'current': {'name': 'Меридиан', 'town': {'id': 286, 'name': 'Саранск'}}, 'questionsTotal': 0, 'synchRequest': None, 'position': 34, 'controversials': [], 'flags': [], 'teamMembers': []}, {'team': {'id': 565, 'name': 'Дебаты', 'town': {'id': 63, 'name': 'Волгоград'}}, 'mask': None, 'current': {'name': 'Дебаты', 'town': {'id': 63, 'name': 'Волгоград'}}, 'questionsTotal': 0, 'synchRequest': None, 'position': 35, 'controversials': [], 'flags': [], 'teamMembers': []}, {'team': {'id': 468, 'name': 'Иностранный легион', 'town': {'id': 286, 'name': 'Саранск'}}, 'mask': None, 'current': {'name': 'Иностранный легион', 'town': {'id': 286, 'name': 'Саранск'}}, 'questionsTotal': 0, 'synchRequest': None, 'position': 36, 'controversials': [], 'flags': [], 'teamMembers': []}, {'team': {'id': 524, 'name': 'От винта!', 'town': {'id': 286, 'name': 'Саранск'}}, 'mask': None, 'current': {'name': 'От винта!', 'town': {'id': 286, 'name': 'Саранск'}}, 'questionsTotal': 0, 'synchRequest': None, 'position': 37, 'controversials': [], 'flags': [], 'teamMembers': []}, {'team': {'id': 91, 'name': 'Стерх', 'town': {'id': 152, 'name': 'Ковылкино'}}, 'mask': None, 'current': {'name': 'Стерх', 'town': {'id': 152, 'name': 'Ковылкино'}}, 'questionsTotal': 0, 'synchRequest': None, 'position': 38, 'controversials': [], 'flags': [], 'teamMembers': []}, {'team': {'id': 526, 'name': 'Апология невежества', 'town': {'id': 286, 'name': 'Саранск'}}, 'mask': None, 'current': {'name': 'Апология невежества', 'town': {'id': 286, 'name': 'Саранск'}}, 'questionsTotal': 0, 'synchRequest': None, 'position': 39, 'controversials': [], 'flags': [], 'teamMembers': []}, {'team': {'id': 29023, 'name': 'Sapiens', 'town': {'id': 286, 'name': 'Саранск'}}, 'mask': None, 'current': {'name': 'Sapiens', 'town': {'id': 286, 'name': 'Саранск'}}, 'questionsTotal': 0, 'synchRequest': None, 'position': 40, 'controversials': [], 'flags': [], 'teamMembers': []}]\n"
          ],
          "name": "stdout"
        }
      ]
    },
    {
      "cell_type": "code",
      "metadata": {
        "id": "iprH10_3rgDw"
      },
      "source": [
        "players_df = pd.DataFrame.from_dict(players, orient='index')\n",
        "tournaments_df = pd.DataFrame.from_dict(tournaments, orient='index')\n",
        "results_df = pd.DataFrame.from_dict(results, orient='index')"
      ],
      "execution_count": 5,
      "outputs": []
    },
    {
      "cell_type": "code",
      "metadata": {
        "id": "DRCj3eU1AJpC"
      },
      "source": [
        "tournaments_df['dateStart'] = pd.to_datetime(tournaments_df['dateStart'], utc=True)\n",
        "tournaments_df['dateEnd'] = pd.to_datetime(tournaments_df['dateEnd'], utc=True)"
      ],
      "execution_count": 6,
      "outputs": []
    },
    {
      "cell_type": "code",
      "metadata": {
        "colab": {
          "base_uri": "https://localhost:8080/",
          "height": 137
        },
        "id": "q73WsBIbrzPZ",
        "outputId": "4d9f2618-d4f8-463e-f79f-4187c2ce1b5f"
      },
      "source": [
        "players_df.head(3)"
      ],
      "execution_count": 7,
      "outputs": [
        {
          "output_type": "execute_result",
          "data": {
            "text/html": [
              "<div>\n",
              "<style scoped>\n",
              "    .dataframe tbody tr th:only-of-type {\n",
              "        vertical-align: middle;\n",
              "    }\n",
              "\n",
              "    .dataframe tbody tr th {\n",
              "        vertical-align: top;\n",
              "    }\n",
              "\n",
              "    .dataframe thead th {\n",
              "        text-align: right;\n",
              "    }\n",
              "</style>\n",
              "<table border=\"1\" class=\"dataframe\">\n",
              "  <thead>\n",
              "    <tr style=\"text-align: right;\">\n",
              "      <th></th>\n",
              "      <th>id</th>\n",
              "      <th>name</th>\n",
              "      <th>patronymic</th>\n",
              "      <th>surname</th>\n",
              "    </tr>\n",
              "  </thead>\n",
              "  <tbody>\n",
              "    <tr>\n",
              "      <th>1</th>\n",
              "      <td>1</td>\n",
              "      <td>Алексей</td>\n",
              "      <td>None</td>\n",
              "      <td>Абабилов</td>\n",
              "    </tr>\n",
              "    <tr>\n",
              "      <th>10</th>\n",
              "      <td>10</td>\n",
              "      <td>Игорь</td>\n",
              "      <td></td>\n",
              "      <td>Абалов</td>\n",
              "    </tr>\n",
              "    <tr>\n",
              "      <th>11</th>\n",
              "      <td>11</td>\n",
              "      <td>Наталья</td>\n",
              "      <td>Юрьевна</td>\n",
              "      <td>Абалымова</td>\n",
              "    </tr>\n",
              "  </tbody>\n",
              "</table>\n",
              "</div>"
            ],
            "text/plain": [
              "    id     name patronymic    surname\n",
              "1    1  Алексей       None   Абабилов\n",
              "10  10    Игорь                Абалов\n",
              "11  11  Наталья    Юрьевна  Абалымова"
            ]
          },
          "metadata": {
            "tags": []
          },
          "execution_count": 7
        }
      ]
    },
    {
      "cell_type": "code",
      "metadata": {
        "colab": {
          "base_uri": "https://localhost:8080/",
          "height": 187
        },
        "id": "RNddgyHAtZgv",
        "outputId": "a79a9782-0478-4517-a333-aee9f7b62619"
      },
      "source": [
        "tournaments_df.head(3)"
      ],
      "execution_count": 8,
      "outputs": [
        {
          "output_type": "execute_result",
          "data": {
            "text/html": [
              "<div>\n",
              "<style scoped>\n",
              "    .dataframe tbody tr th:only-of-type {\n",
              "        vertical-align: middle;\n",
              "    }\n",
              "\n",
              "    .dataframe tbody tr th {\n",
              "        vertical-align: top;\n",
              "    }\n",
              "\n",
              "    .dataframe thead th {\n",
              "        text-align: right;\n",
              "    }\n",
              "</style>\n",
              "<table border=\"1\" class=\"dataframe\">\n",
              "  <thead>\n",
              "    <tr style=\"text-align: right;\">\n",
              "      <th></th>\n",
              "      <th>id</th>\n",
              "      <th>name</th>\n",
              "      <th>dateStart</th>\n",
              "      <th>dateEnd</th>\n",
              "      <th>type</th>\n",
              "      <th>season</th>\n",
              "      <th>orgcommittee</th>\n",
              "      <th>synchData</th>\n",
              "      <th>questionQty</th>\n",
              "    </tr>\n",
              "  </thead>\n",
              "  <tbody>\n",
              "    <tr>\n",
              "      <th>1</th>\n",
              "      <td>1</td>\n",
              "      <td>Чемпионат Южного Кавказа</td>\n",
              "      <td>2003-07-24 20:00:00+00:00</td>\n",
              "      <td>2003-07-26 20:00:00+00:00</td>\n",
              "      <td>{'id': 2, 'name': 'Обычный'}</td>\n",
              "      <td>/seasons/1</td>\n",
              "      <td>[]</td>\n",
              "      <td>None</td>\n",
              "      <td>None</td>\n",
              "    </tr>\n",
              "    <tr>\n",
              "      <th>2</th>\n",
              "      <td>2</td>\n",
              "      <td>Летние зори</td>\n",
              "      <td>2003-08-08 20:00:00+00:00</td>\n",
              "      <td>2003-08-08 20:00:00+00:00</td>\n",
              "      <td>{'id': 2, 'name': 'Обычный'}</td>\n",
              "      <td>/seasons/1</td>\n",
              "      <td>[]</td>\n",
              "      <td>None</td>\n",
              "      <td>None</td>\n",
              "    </tr>\n",
              "    <tr>\n",
              "      <th>3</th>\n",
              "      <td>3</td>\n",
              "      <td>Турнир в Ижевске</td>\n",
              "      <td>2003-11-21 21:00:00+00:00</td>\n",
              "      <td>2003-11-23 21:00:00+00:00</td>\n",
              "      <td>{'id': 2, 'name': 'Обычный'}</td>\n",
              "      <td>/seasons/2</td>\n",
              "      <td>[]</td>\n",
              "      <td>None</td>\n",
              "      <td>None</td>\n",
              "    </tr>\n",
              "  </tbody>\n",
              "</table>\n",
              "</div>"
            ],
            "text/plain": [
              "   id                      name  ... synchData questionQty\n",
              "1   1  Чемпионат Южного Кавказа  ...      None        None\n",
              "2   2               Летние зори  ...      None        None\n",
              "3   3          Турнир в Ижевске  ...      None        None\n",
              "\n",
              "[3 rows x 9 columns]"
            ]
          },
          "metadata": {
            "tags": []
          },
          "execution_count": 8
        }
      ]
    },
    {
      "cell_type": "markdown",
      "metadata": {
        "id": "aBWXXb3QGDYz"
      },
      "source": [
        "### Отбор"
      ]
    },
    {
      "cell_type": "code",
      "metadata": {
        "id": "-0qfqMJ34QAm"
      },
      "source": [
        "train_tournaments = tournaments_df[(tournaments_df['dateStart'] >= '2019-01-01') & (tournaments_df['dateStart'] <= '2019-12-31')]\n",
        "test_tournaments = tournaments_df[(tournaments_df['dateStart'] >= '2020-01-01') & (tournaments_df['dateStart'] <= '2020-12-31')]"
      ],
      "execution_count": 9,
      "outputs": []
    },
    {
      "cell_type": "code",
      "metadata": {
        "id": "kn9Wx-7iHB1f"
      },
      "source": [
        "def clean_tournaments(tournaments: pd.DataFrame, results: pd.DataFrame) -> pd.DataFrame:\n",
        "  cleaned_tournaments = tournaments.copy()\n",
        "  for id in cleaned_tournaments['id']:\n",
        "    if not results.loc[id, 0] or ('mask' in results.loc[id, 0].keys() and not results.loc[id, 0]['mask']):\n",
        "      cleaned_tournaments.drop([id], inplace=True)\n",
        "  \n",
        "  return cleaned_tournaments"
      ],
      "execution_count": 10,
      "outputs": []
    },
    {
      "cell_type": "code",
      "metadata": {
        "id": "eujcYUh4Vd9n"
      },
      "source": [
        "train_tournaments_cleaned = clean_tournaments(train_tournaments, results_df)\n",
        "test_tournaments_cleaned = clean_tournaments(test_tournaments, results_df)"
      ],
      "execution_count": 11,
      "outputs": []
    },
    {
      "cell_type": "code",
      "metadata": {
        "colab": {
          "base_uri": "https://localhost:8080/"
        },
        "id": "eF9TpyXLXoFN",
        "outputId": "c379585f-52a8-4f25-a0b9-c17364be54d0"
      },
      "source": [
        "print('Shape train до чистки:', train_tournaments.shape, 'после', train_tournaments_cleaned.shape)\n",
        "print('Shape test до чистки:', test_tournaments.shape, 'после', test_tournaments_cleaned.shape)"
      ],
      "execution_count": 12,
      "outputs": [
        {
          "output_type": "stream",
          "text": [
            "Shape train до чистки: (687, 9) после (675, 9)\n",
            "Shape test до чистки: (415, 9) после (191, 9)\n"
          ],
          "name": "stdout"
        }
      ]
    },
    {
      "cell_type": "markdown",
      "metadata": {
        "id": "AwzMv0DRZPZ0"
      },
      "source": [
        "### Вспомогательные функции"
      ]
    },
    {
      "cell_type": "code",
      "metadata": {
        "id": "vCkH03o-Z19y"
      },
      "source": [
        ""
      ],
      "execution_count": null,
      "outputs": []
    },
    {
      "cell_type": "markdown",
      "metadata": {
        "id": "-wtSIYjGZ2bm"
      },
      "source": [
        "## 2. Baseline-модель"
      ]
    },
    {
      "cell_type": "markdown",
      "metadata": {
        "id": "cgc8pGMRaICM"
      },
      "source": [
        "* Baseline-модель на основе логистической регрессии.\n",
        "* Повопросные результаты команды относятся к каждому из её игроков.\n",
        "* Учитываем сложность вопросов (по уровню сложности турнира)."
      ]
    },
    {
      "cell_type": "code",
      "metadata": {
        "id": "YPcurRUfzhQt"
      },
      "source": [
        "# Готовим матрицу\n",
        "def create_matrix(tournaments: pd.DataFrame):\n"
      ],
      "execution_count": null,
      "outputs": []
    }
  ]
}